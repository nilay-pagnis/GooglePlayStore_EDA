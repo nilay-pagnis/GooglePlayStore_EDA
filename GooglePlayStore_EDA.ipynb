{
  "nbformat": 4,
  "nbformat_minor": 0,
  "metadata": {
    "colab": {
      "private_outputs": true,
      "provenance": [],
      "collapsed_sections": [
        "w6K7xa23Elo4"
      ],
      "machine_shape": "hm",
      "include_colab_link": true
    },
    "kernelspec": {
      "name": "python3",
      "display_name": "Python 3"
    },
    "language_info": {
      "name": "python"
    }
  },
  "cells": [
    {
      "cell_type": "markdown",
      "metadata": {
        "id": "view-in-github",
        "colab_type": "text"
      },
      "source": [
        "<a href=\"https://colab.research.google.com/github/nilay-pagnis/GooglePlayStore_EDA/blob/main/GooglePlayStore_EDA.ipynb\" target=\"_parent\"><img src=\"https://colab.research.google.com/assets/colab-badge.svg\" alt=\"Open In Colab\"/></a>"
      ]
    },
    {
      "cell_type": "markdown",
      "source": [
        "# **Project Name**    - Play Store App Review Analysis\n",
        "\n"
      ],
      "metadata": {
        "id": "vncDsAP0Gaoa"
      }
    },
    {
      "cell_type": "markdown",
      "source": [
        "##### **Project Type**    - EDA\n",
        "##### **Contribution**    - Individual\n",
        "##### **Team Member 1 -**  Nilay Pagnis\n",
        "\n",
        "---\n",
        "\n",
        "\n"
      ],
      "metadata": {
        "id": "beRrZCGUAJYm"
      }
    },
    {
      "cell_type": "markdown",
      "source": [
        "# **Project Summary -**"
      ],
      "metadata": {
        "id": "FJNUwmbgGyua"
      }
    },
    {
      "cell_type": "markdown",
      "source": [
        "The Play Store apps data has enormous potential to drive app-making businesses to success. Actionable insights can be drawn for developers to work on and capture the Android market. Each app (row) has values for category, rating, size, and more. Another dataset contains customer reviews of the android apps. Explore and analyse the data to discover key factors responsible for app engagement and success."
      ],
      "metadata": {
        "id": "F6v_1wHtG2nS"
      }
    },
    {
      "cell_type": "markdown",
      "source": [
        "# **GitHub Link -**"
      ],
      "metadata": {
        "id": "w6K7xa23Elo4"
      }
    },
    {
      "cell_type": "markdown",
      "source": [
        "Provide your GitHub Link here."
      ],
      "metadata": {
        "id": "h1o69JH3Eqqn"
      }
    },
    {
      "cell_type": "markdown",
      "source": [
        "# **Problem Statement**\n"
      ],
      "metadata": {
        "id": "yQaldy8SH6Dl"
      }
    },
    {
      "cell_type": "markdown",
      "source": [
        "The Google Play Store hosts millions of apps across diverse categories, offering users choices ranging from productivity tools and educational apps to games and entertainment. However, with increasing competition and rapidly evolving user expectations, it becomes crucial for app developers and marketers to understand what drives user engagement, satisfaction, and app success.\n",
        "\n",
        "This project aims to analyze the Google Play Store dataset to uncover key insights about:\n",
        "\n",
        "How app attributes (price, size, type) and user-generated content (ratings, reviews, sentiment) impact app popularity and success.\n",
        "\n",
        "Patterns and relationships between numeric features like installs, ratings, reviews, sentiment polarity, and subjectivity.\n",
        "\n",
        "The distribution of free vs. paid apps, sentiment trends, and category-wise performance."
      ],
      "metadata": {
        "id": "DpeJGUA3kjGy"
      }
    },
    {
      "cell_type": "markdown",
      "source": [
        "#### **Define Your Business Objective?**"
      ],
      "metadata": {
        "id": "PH-0ReGfmX4f"
      }
    },
    {
      "cell_type": "markdown",
      "source": [
        "To use data analysis and visualization to uncover hidden trends, correlations, and actionable patterns in the Google Play Store data that will help improve user satisfaction, boost installs and ratings, and drive sustainable business growth."
      ],
      "metadata": {
        "id": "PhDvGCAqmjP1"
      }
    },
    {
      "cell_type": "markdown",
      "source": [
        "# **General Guidelines** : -  "
      ],
      "metadata": {
        "id": "mDgbUHAGgjLW"
      }
    },
    {
      "cell_type": "markdown",
      "source": [
        "1.   Well-structured, formatted, and commented code is required.\n",
        "2.   Exception Handling, Production Grade Code & Deployment Ready Code will be a plus. Those students will be awarded some additional credits.\n",
        "     \n",
        "     The additional credits will have advantages over other students during Star Student selection.\n",
        "       \n",
        "             [ Note: - Deployment Ready Code is defined as, the whole .ipynb notebook should be executable in one go\n",
        "                       without a single error logged. ]\n",
        "\n",
        "3.   Each and every logic should have proper comments.\n",
        "4. You may add as many number of charts you want. Make Sure for each and every chart the following format should be answered.\n",
        "        \n",
        "\n",
        "```\n",
        "# Chart visualization code\n",
        "```\n",
        "            \n",
        "\n",
        "*   Why did you pick the specific chart?\n",
        "*   What is/are the insight(s) found from the chart?\n",
        "* Will the gained insights help creating a positive business impact?\n",
        "Are there any insights that lead to negative growth? Justify with specific reason.\n",
        "\n",
        "5. You have to create at least 20 logical & meaningful charts having important insights.\n",
        "\n",
        "\n",
        "[ Hints : - Do the Vizualization in  a structured way while following \"UBM\" Rule.\n",
        "\n",
        "U - Univariate Analysis,\n",
        "\n",
        "B - Bivariate Analysis (Numerical - Categorical, Numerical - Numerical, Categorical - Categorical)\n",
        "\n",
        "M - Multivariate Analysis\n",
        " ]\n",
        "\n",
        "\n",
        "\n"
      ],
      "metadata": {
        "id": "ZrxVaUj-hHfC"
      }
    },
    {
      "cell_type": "markdown",
      "source": [
        "# ***Let's Begin !***"
      ],
      "metadata": {
        "id": "O_i_v8NEhb9l"
      }
    },
    {
      "cell_type": "markdown",
      "source": [
        "## ***1. Know Your Data***"
      ],
      "metadata": {
        "id": "HhfV-JJviCcP"
      }
    },
    {
      "cell_type": "markdown",
      "source": [
        "### Import Libraries"
      ],
      "metadata": {
        "id": "Y3lxredqlCYt"
      }
    },
    {
      "cell_type": "code",
      "source": [
        "# Import Libraries\n",
        "import pandas as pd\n",
        "import numpy as np\n",
        "import matplotlib.pyplot as plt\n",
        "import seaborn as sns\n",
        "import plotly.express as px\n",
        "%matplotlib inline"
      ],
      "metadata": {
        "id": "M8Vqi-pPk-HR"
      },
      "execution_count": null,
      "outputs": []
    },
    {
      "cell_type": "markdown",
      "source": [
        "### Dataset Loading"
      ],
      "metadata": {
        "id": "3RnN4peoiCZX"
      }
    },
    {
      "cell_type": "code",
      "source": [
        "# Load Dataset\n",
        "\n",
        "# import file - Play Store Data.csv\n",
        "\n",
        "from google.colab import drive\n",
        "drive.mount('/content/drive')\n",
        "\n",
        "df_PlayStoreData = pd.read_csv('/content/drive/MyDrive/Capstone_project_GooglePlayStore_files/Play Store Data.csv')\n",
        "\n",
        "df_User_Reviews = pd.read_csv('/content/drive/MyDrive/Capstone_project_GooglePlayStore_files/User Reviews.csv')"
      ],
      "metadata": {
        "id": "dYW4hWXCuJdI"
      },
      "execution_count": null,
      "outputs": []
    },
    {
      "cell_type": "markdown",
      "source": [
        "### Dataset First View"
      ],
      "metadata": {
        "id": "x71ZqKXriCWQ"
      }
    },
    {
      "cell_type": "code",
      "source": [
        "# Dataset First Look\n",
        "df_PlayStoreData.head()"
      ],
      "metadata": {
        "id": "LWNFOSvLl09H"
      },
      "execution_count": null,
      "outputs": []
    },
    {
      "cell_type": "code",
      "source": [
        "df_User_Reviews.head()"
      ],
      "metadata": {
        "id": "UkWKSpynAjdI"
      },
      "execution_count": null,
      "outputs": []
    },
    {
      "cell_type": "markdown",
      "source": [
        "### Dataset Rows & Columns count"
      ],
      "metadata": {
        "id": "7hBIi_osiCS2"
      }
    },
    {
      "cell_type": "code",
      "source": [
        "# Dataset Rows & Columns count\n",
        "df_PlayStoreData.shape"
      ],
      "metadata": {
        "id": "Kllu7SJgmLij"
      },
      "execution_count": null,
      "outputs": []
    },
    {
      "cell_type": "code",
      "source": [
        "df_User_Reviews.shape"
      ],
      "metadata": {
        "id": "MUJGAFNkBL6J"
      },
      "execution_count": null,
      "outputs": []
    },
    {
      "cell_type": "markdown",
      "source": [
        "### Dataset Information"
      ],
      "metadata": {
        "id": "JlHwYmJAmNHm"
      }
    },
    {
      "cell_type": "code",
      "source": [
        "# Dataset Info\n",
        "df_PlayStoreData.info()"
      ],
      "metadata": {
        "id": "e9hRXRi6meOf"
      },
      "execution_count": null,
      "outputs": []
    },
    {
      "cell_type": "code",
      "source": [
        "df_User_Reviews.info()"
      ],
      "metadata": {
        "id": "9JM-5JPpBXjS"
      },
      "execution_count": null,
      "outputs": []
    },
    {
      "cell_type": "markdown",
      "source": [
        "#### Duplicate Values"
      ],
      "metadata": {
        "id": "35m5QtbWiB9F"
      }
    },
    {
      "cell_type": "code",
      "source": [
        "# Dataset Duplicate Value Count\n",
        "df_PlayStoreData.duplicated().sum()"
      ],
      "metadata": {
        "id": "1sLdpKYkmox0"
      },
      "execution_count": null,
      "outputs": []
    },
    {
      "cell_type": "code",
      "source": [
        "df_User_Reviews.duplicated().sum()"
      ],
      "metadata": {
        "id": "EMgyOJfAByDR"
      },
      "execution_count": null,
      "outputs": []
    },
    {
      "cell_type": "markdown",
      "source": [
        "#### Missing Values/Null Values"
      ],
      "metadata": {
        "id": "PoPl-ycgm1ru"
      }
    },
    {
      "cell_type": "code",
      "source": [
        "# Missing Values/Null Values Count\n",
        "df_PlayStoreData.isnull().sum()"
      ],
      "metadata": {
        "id": "GgHWkxvamxVg"
      },
      "execution_count": null,
      "outputs": []
    },
    {
      "cell_type": "code",
      "source": [
        "df_User_Reviews.isnull().sum()"
      ],
      "metadata": {
        "id": "t6IeVXSIB_vC"
      },
      "execution_count": null,
      "outputs": []
    },
    {
      "cell_type": "code",
      "source": [
        "# Visualizing the missing values\n",
        "df_PlayStoreData.isnull().sum().plot(kind='bar')"
      ],
      "metadata": {
        "id": "3q5wnI3om9sJ"
      },
      "execution_count": null,
      "outputs": []
    },
    {
      "cell_type": "code",
      "source": [
        "df_User_Reviews.isnull().sum().plot(kind='bar')"
      ],
      "metadata": {
        "id": "UWo10ZaCCjnC"
      },
      "execution_count": null,
      "outputs": []
    },
    {
      "cell_type": "markdown",
      "source": [
        "### What did you know about your dataset?"
      ],
      "metadata": {
        "id": "H0kj-8xxnORC"
      }
    },
    {
      "cell_type": "markdown",
      "source": [
        "There are few columns which contains missing/null values"
      ],
      "metadata": {
        "id": "gfoNAAC-nUe_"
      }
    },
    {
      "cell_type": "markdown",
      "source": [
        "## ***2. Understanding Your Variables***"
      ],
      "metadata": {
        "id": "nA9Y7ga8ng1Z"
      }
    },
    {
      "cell_type": "code",
      "source": [
        "# Dataset Columns\n",
        "df_PlayStoreData.columns"
      ],
      "metadata": {
        "id": "j7xfkqrt5Ag5"
      },
      "execution_count": null,
      "outputs": []
    },
    {
      "cell_type": "code",
      "source": [
        "df_User_Reviews.columns"
      ],
      "metadata": {
        "id": "gvm_tUwyFIn4"
      },
      "execution_count": null,
      "outputs": []
    },
    {
      "cell_type": "code",
      "source": [
        "# Dataset Describe\n",
        "df_PlayStoreData.describe()"
      ],
      "metadata": {
        "id": "DnOaZdaE5Q5t"
      },
      "execution_count": null,
      "outputs": []
    },
    {
      "cell_type": "code",
      "source": [
        "df_User_Reviews.describe()"
      ],
      "metadata": {
        "id": "zyNi2sp3G3Ph"
      },
      "execution_count": null,
      "outputs": []
    },
    {
      "cell_type": "markdown",
      "source": [
        "### Variables Description"
      ],
      "metadata": {
        "id": "PBTbrJXOngz2"
      }
    },
    {
      "cell_type": "markdown",
      "source": [
        "count: Number of non-missing observations\n",
        "\n",
        "mean: Average value\n",
        "\n",
        "std: Standard deviation, showing the spread of the data\n",
        "\n",
        "min: Minimum value\n",
        "\n",
        "25%: First quartile (25th percentile)\n",
        "\n",
        "50%: Median (50th percentile)\n",
        "\n",
        "75%: Third quartile (75th percentile)\n",
        "\n",
        "max: Maximum value"
      ],
      "metadata": {
        "id": "aJV4KIxSnxay"
      }
    },
    {
      "cell_type": "markdown",
      "source": [
        "### Check Unique Values for each variable."
      ],
      "metadata": {
        "id": "u3PMJOP6ngxN"
      }
    },
    {
      "cell_type": "code",
      "source": [
        "# Check Unique Values for each variable.\n",
        "df_PlayStoreData.nunique()"
      ],
      "metadata": {
        "id": "zms12Yq5n-jE"
      },
      "execution_count": null,
      "outputs": []
    },
    {
      "cell_type": "code",
      "source": [
        "df_User_Reviews.nunique()"
      ],
      "metadata": {
        "id": "BZ_sz4U9HbCY"
      },
      "execution_count": null,
      "outputs": []
    },
    {
      "cell_type": "markdown",
      "source": [
        "## 3. ***Data Wrangling***"
      ],
      "metadata": {
        "id": "dauF4eBmngu3"
      }
    },
    {
      "cell_type": "markdown",
      "source": [
        "### Data Wrangling Code"
      ],
      "metadata": {
        "id": "bKJF3rekwFvQ"
      }
    },
    {
      "cell_type": "code",
      "source": [
        "# Write your code to make your dataset analysis ready."
      ],
      "metadata": {
        "id": "wk-9a2fpoLcV"
      },
      "execution_count": null,
      "outputs": []
    },
    {
      "cell_type": "code",
      "source": [
        "df_PlayStoreData['Reviews'].unique()"
      ],
      "metadata": {
        "id": "BN_ddFiWOA7o"
      },
      "execution_count": null,
      "outputs": []
    },
    {
      "cell_type": "code",
      "source": [
        "# For finding wheather all numbers are inside string or not\n",
        "df_PlayStoreData['Reviews'].str.isnumeric().sum()"
      ],
      "metadata": {
        "id": "jOjFHCmWOA2r"
      },
      "execution_count": null,
      "outputs": []
    },
    {
      "cell_type": "code",
      "source": [
        "df_PlayStoreData[~df_PlayStoreData['Reviews'].str.isnumeric()]"
      ],
      "metadata": {
        "id": "k7_pVrLFOAz_"
      },
      "execution_count": null,
      "outputs": []
    },
    {
      "cell_type": "code",
      "source": [
        "# Creating copy of df_PlayStoreData for further data wrangling process\n",
        "df_copy_PlayStoreData = df_PlayStoreData.copy()"
      ],
      "metadata": {
        "id": "G1IuI5nrOArp"
      },
      "execution_count": null,
      "outputs": []
    },
    {
      "cell_type": "code",
      "source": [
        "# Drop row (10472) as it is not relevent\n",
        "df_copy_PlayStoreData=df_copy_PlayStoreData.drop(df_copy_PlayStoreData.index[10472])"
      ],
      "metadata": {
        "id": "fVwzJqObOAl4"
      },
      "execution_count": null,
      "outputs": []
    },
    {
      "cell_type": "code",
      "source": [
        "# convert DataType from Object to Integer\n",
        "df_copy_PlayStoreData['Reviews'] = df_copy_PlayStoreData['Reviews'].astype(int)"
      ],
      "metadata": {
        "id": "EfURyGeMOAdo"
      },
      "execution_count": null,
      "outputs": []
    },
    {
      "cell_type": "code",
      "source": [
        "# Check for changes in Review column\n",
        "df_copy_PlayStoreData.info()"
      ],
      "metadata": {
        "id": "XNbfyVuKOATA"
      },
      "execution_count": null,
      "outputs": []
    },
    {
      "cell_type": "code",
      "source": [
        "df_copy_PlayStoreData"
      ],
      "metadata": {
        "collapsed": true,
        "id": "DgWKjD7p2SWU"
      },
      "execution_count": null,
      "outputs": []
    },
    {
      "cell_type": "code",
      "source": [
        "df_copy_PlayStoreData[\"Size\"].isnull().sum()"
      ],
      "metadata": {
        "id": "Ex8s30Dh2SRL"
      },
      "execution_count": null,
      "outputs": []
    },
    {
      "cell_type": "code",
      "source": [
        "# As Size column has 'M' and 'K' so, to be on same unit we will conver 'M' to 'K'\n",
        "df_copy_PlayStoreData[\"Size\"] = df_copy_PlayStoreData[\"Size\"].str.replace(\"M\",\"000\")\n",
        "df_copy_PlayStoreData[\"Size\"] = df_copy_PlayStoreData[\"Size\"].str.replace(\"k\",\"\")"
      ],
      "metadata": {
        "id": "AemO5o3i2SOm"
      },
      "execution_count": null,
      "outputs": []
    },
    {
      "cell_type": "code",
      "source": [
        "# Find unique value if any other than number\n",
        "df_copy_PlayStoreData[\"Size\"].unique()"
      ],
      "metadata": {
        "collapsed": true,
        "id": "yqZFa8Fc4fq1"
      },
      "execution_count": null,
      "outputs": []
    },
    {
      "cell_type": "code",
      "source": [
        "# Found value which need to convert to nan\n",
        "df_copy_PlayStoreData[\"Size\"] = df_copy_PlayStoreData[\"Size\"].replace(\"Varies with device\", np.nan)\n",
        "df_copy_PlayStoreData[\"Size\"] = df_copy_PlayStoreData[\"Size\"].astype(float)"
      ],
      "metadata": {
        "id": "kRt6JFM54fiD"
      },
      "execution_count": null,
      "outputs": []
    },
    {
      "cell_type": "code",
      "source": [
        "df_copy_PlayStoreData[\"Size\"]"
      ],
      "metadata": {
        "collapsed": true,
        "id": "QkDt7TRYMXVB"
      },
      "execution_count": null,
      "outputs": []
    },
    {
      "cell_type": "code",
      "source": [
        "# check \"Installs\" and \"Price\" column\n",
        "df_copy_PlayStoreData[\"Installs\"].unique()"
      ],
      "metadata": {
        "id": "XZFtvzCaMXQR"
      },
      "execution_count": null,
      "outputs": []
    },
    {
      "cell_type": "code",
      "source": [
        "df_copy_PlayStoreData[\"Price\"].unique()"
      ],
      "metadata": {
        "id": "xCAICgHWMXL2"
      },
      "execution_count": null,
      "outputs": []
    },
    {
      "cell_type": "code",
      "source": [
        "# Logic to remove special character\n",
        "chars_to_remove = [\"+\", \",\", \"$\"]\n",
        "columns_to_update = [\"Installs\", \"Price\"]\n",
        "\n",
        "for char in chars_to_remove:\n",
        "  for cols in columns_to_update:\n",
        "    df_copy_PlayStoreData[cols] = df_copy_PlayStoreData[cols].str.replace(char,\"\")\n"
      ],
      "metadata": {
        "id": "LQWoH2bLOOrz"
      },
      "execution_count": null,
      "outputs": []
    },
    {
      "cell_type": "code",
      "source": [
        "df_copy_PlayStoreData[\"Price\"].unique()"
      ],
      "metadata": {
        "collapsed": true,
        "id": "2ph9nUMMOOll"
      },
      "execution_count": null,
      "outputs": []
    },
    {
      "cell_type": "code",
      "source": [
        "df_copy_PlayStoreData[\"Installs\"].unique()"
      ],
      "metadata": {
        "collapsed": true,
        "id": "4BnD_QlsOOgc"
      },
      "execution_count": null,
      "outputs": []
    },
    {
      "cell_type": "code",
      "source": [
        "df_copy_PlayStoreData[\"Installs\"] = df_copy_PlayStoreData[\"Installs\"].astype(int)\n",
        "df_copy_PlayStoreData[\"Price\"] = df_copy_PlayStoreData[\"Price\"].astype(float)"
      ],
      "metadata": {
        "id": "UiUYgsfTt5S5"
      },
      "execution_count": null,
      "outputs": []
    },
    {
      "cell_type": "code",
      "source": [
        "# Check for NaN value in Type column\n",
        "df_copy_PlayStoreData[\"Type\"].isnull().sum()\n",
        "# get rows having null values\n",
        "df_copy_PlayStoreData[df_copy_PlayStoreData[\"Type\"].isnull()]"
      ],
      "metadata": {
        "id": "tDS6GHOy05ml"
      },
      "execution_count": null,
      "outputs": []
    },
    {
      "cell_type": "code",
      "source": [
        "# Replace Type=NaN with Free as Price=0.0\n",
        "df_copy_PlayStoreData.loc[df_copy_PlayStoreData[\"Price\"] == 0.0, \"Type\"] = \"Free\""
      ],
      "metadata": {
        "id": "omzT_hmew-Xj"
      },
      "execution_count": null,
      "outputs": []
    },
    {
      "cell_type": "code",
      "source": [
        "# Replace missing values (NaN) in Rating with this average\n",
        "average_rating = df_copy_PlayStoreData[\"Rating\"].mean()\n",
        "df_copy_PlayStoreData[\"Rating\"].fillna(average_rating, inplace=True)"
      ],
      "metadata": {
        "id": "wZuirh9Y0grV"
      },
      "execution_count": null,
      "outputs": []
    },
    {
      "cell_type": "code",
      "source": [
        "df_copy_PlayStoreData.info()"
      ],
      "metadata": {
        "collapsed": true,
        "id": "YFsx5Cb8t5Pm"
      },
      "execution_count": null,
      "outputs": []
    },
    {
      "cell_type": "code",
      "source": [
        "# Check for \"Last update\" feature\n",
        "df_copy_PlayStoreData[\"Last Updated\"].unique()"
      ],
      "metadata": {
        "id": "fhpBOuvgt5MI"
      },
      "execution_count": null,
      "outputs": []
    },
    {
      "cell_type": "code",
      "source": [
        "# Change \"Last updated\" dataType to date time format and created 3 new columns \"Day\", \"Month\", \"Year\"\n",
        "df_copy_PlayStoreData[\"Last Updated\"] = pd.to_datetime(df_copy_PlayStoreData[\"Last Updated\"])\n",
        "df_copy_PlayStoreData[\"Day\"] = df_copy_PlayStoreData[\"Last Updated\"].dt.day\n",
        "df_copy_PlayStoreData[\"Month\"] = df_copy_PlayStoreData[\"Last Updated\"].dt.month\n",
        "df_copy_PlayStoreData[\"Year\"] = df_copy_PlayStoreData[\"Last Updated\"].dt.year"
      ],
      "metadata": {
        "id": "c_VlD_rEt5I9"
      },
      "execution_count": null,
      "outputs": []
    },
    {
      "cell_type": "code",
      "source": [
        "df_copy_PlayStoreData.head()"
      ],
      "metadata": {
        "collapsed": true,
        "id": "seCBi-ont5EG"
      },
      "execution_count": null,
      "outputs": []
    },
    {
      "cell_type": "code",
      "source": [
        "# Data has duplicate records and needs to drop\n",
        "df_copy_PlayStoreData[df_copy_PlayStoreData.duplicated(\"App\")].shape"
      ],
      "metadata": {
        "id": "r1ExoeL7_UWd"
      },
      "execution_count": null,
      "outputs": []
    },
    {
      "cell_type": "code",
      "source": [
        "# Drop duplicate values\n",
        "df_copy_PlayStoreData = df_copy_PlayStoreData.drop_duplicates(subset=[\"App\"], keep=\"first\")"
      ],
      "metadata": {
        "id": "z9I7zBva_UM9"
      },
      "execution_count": null,
      "outputs": []
    },
    {
      "cell_type": "code",
      "source": [
        "df_copy_PlayStoreData.shape"
      ],
      "metadata": {
        "id": "edM_YIVh_T7n"
      },
      "execution_count": null,
      "outputs": []
    },
    {
      "cell_type": "code",
      "source": [
        "# Check for numerical feature and categorical features\n",
        "numerical_features = [feature for feature in df_copy_PlayStoreData.columns if df_copy_PlayStoreData[feature].dtype != \"O\"]\n",
        "categorical_features = [feature for feature in df_copy_PlayStoreData.columns if df_copy_PlayStoreData[feature].dtype == \"O\"]\n",
        "\n",
        "print(\"Numerical Features:\", numerical_features)\n",
        "print(\"Categorical Features:\", categorical_features)\n",
        "\n"
      ],
      "metadata": {
        "id": "sms5E1mVAVJy"
      },
      "execution_count": null,
      "outputs": []
    },
    {
      "cell_type": "code",
      "source": [
        "# Data Cleaning for \"User Review dataSet\"\n",
        "df_copy_UserReview = df_User_Reviews.copy()"
      ],
      "metadata": {
        "id": "Qnr1dfbut4_1"
      },
      "execution_count": null,
      "outputs": []
    },
    {
      "cell_type": "code",
      "source": [
        "df_copy_UserReview.head()"
      ],
      "metadata": {
        "id": "wuvjXCPmt48l"
      },
      "execution_count": null,
      "outputs": []
    },
    {
      "cell_type": "code",
      "source": [
        "df_copy_UserReview.shape"
      ],
      "metadata": {
        "id": "bAITCTEW0M9g"
      },
      "execution_count": null,
      "outputs": []
    },
    {
      "cell_type": "code",
      "source": [
        "# check for \"App\" column if any missing value present or not\n",
        "df_copy_UserReview[\"App\"].isnull().sum()"
      ],
      "metadata": {
        "id": "cDAWFtbct45E"
      },
      "execution_count": null,
      "outputs": []
    },
    {
      "cell_type": "code",
      "source": [
        "df_copy_UserReview[\"Translated_Review\"].isnull().sum()"
      ],
      "metadata": {
        "id": "UUVrEe7mt41q"
      },
      "execution_count": null,
      "outputs": []
    },
    {
      "cell_type": "code",
      "source": [
        "total_null_values = df_copy_UserReview.isnull().sum()\n",
        "total_value = len(df_copy_UserReview[\"Translated_Review\"])\n",
        "null_percentage = (total_null_values/total_value)*100\n",
        "print(null_percentage)"
      ],
      "metadata": {
        "id": "yAqLkWs4y1Df"
      },
      "execution_count": null,
      "outputs": []
    },
    {
      "cell_type": "code",
      "source": [
        "# Replacing NAN value with \"No Review\"\n",
        "df_copy_UserReview['Translated_Review'] = df_copy_UserReview['Translated_Review'].fillna('No Review')"
      ],
      "metadata": {
        "id": "wfHL6B-Cy06O"
      },
      "execution_count": null,
      "outputs": []
    },
    {
      "cell_type": "code",
      "source": [
        "df_copy_UserReview[\"Translated_Review\"].isnull().sum()"
      ],
      "metadata": {
        "id": "7Ee78Yo0y02K"
      },
      "execution_count": null,
      "outputs": []
    },
    {
      "cell_type": "code",
      "source": [
        "df_copy_UserReview.head()"
      ],
      "metadata": {
        "id": "qAOTYjvOy0yJ"
      },
      "execution_count": null,
      "outputs": []
    },
    {
      "cell_type": "code",
      "source": [
        "# check for NaN value\n",
        "df_copy_UserReview[\"Sentiment\"].unique()"
      ],
      "metadata": {
        "id": "_6lfpJcoy0u6"
      },
      "execution_count": null,
      "outputs": []
    },
    {
      "cell_type": "code",
      "source": [
        "# check for null_percentage\n",
        "total_null_values = df_copy_UserReview[\"Sentiment\"].isnull().sum()\n",
        "total_value = len(df_copy_UserReview[\"Sentiment\"])\n",
        "null_percentage = (total_null_values/total_value)*100\n",
        "print(null_percentage)"
      ],
      "metadata": {
        "id": "WCOc8n4cEdfL"
      },
      "execution_count": null,
      "outputs": []
    },
    {
      "cell_type": "code",
      "source": [
        "# Find unique values\n",
        "df_copy_UserReview[\"Sentiment_Subjectivity\"].unique()"
      ],
      "metadata": {
        "id": "VireTntvEdZv"
      },
      "execution_count": null,
      "outputs": []
    },
    {
      "cell_type": "code",
      "source": [
        "# Check for null Sum\n",
        "df_copy_UserReview[\"Sentiment_Subjectivity\"].isnull().sum()"
      ],
      "metadata": {
        "id": "f5vCz63sEdVd"
      },
      "execution_count": null,
      "outputs": []
    },
    {
      "cell_type": "code",
      "source": [
        "# Remove all rows where the \"Translated_Review\" column has the exact value \"No Review\"\n",
        "df_copy_UserReview = df_copy_UserReview[df_copy_UserReview[\"Translated_Review\"] != \"No Review\"]"
      ],
      "metadata": {
        "id": "92KD1XPTEdSG"
      },
      "execution_count": null,
      "outputs": []
    },
    {
      "cell_type": "code",
      "source": [
        "df_copy_UserReview.isnull().sum()"
      ],
      "metadata": {
        "id": "NlVhnxfC6rTX"
      },
      "execution_count": null,
      "outputs": []
    },
    {
      "cell_type": "code",
      "source": [
        "df_copy_UserReview.info()"
      ],
      "metadata": {
        "id": "xQ_FXnJr61Co"
      },
      "execution_count": null,
      "outputs": []
    },
    {
      "cell_type": "code",
      "source": [
        "# Check for numerical feature and categorical features\n",
        "User_review_numerical_features = [feature for feature in df_copy_UserReview.columns if df_copy_UserReview[feature].dtype != \"O\"]\n",
        "User_review_categorical_features = [feature for feature in df_copy_UserReview.columns if df_copy_UserReview[feature].dtype == \"O\"]\n",
        "\n",
        "print(\"Numerical Features:\", User_review_numerical_features)\n",
        "print(\"Categorical Features:\", User_review_categorical_features)"
      ],
      "metadata": {
        "id": "cAfFmbwXQtlj"
      },
      "execution_count": null,
      "outputs": []
    },
    {
      "cell_type": "markdown",
      "source": [
        "Changing names for \"df_copy_PlayStoreData\" and \"df_copy_UserReview\" as follows\n",
        "\n",
        "df_copy_PlayStoreData -> df1\n",
        "\n",
        "df_copy_UserReview -> df2"
      ],
      "metadata": {
        "id": "HHPHzLXhvGCz"
      }
    },
    {
      "cell_type": "code",
      "source": [
        "df1 = df_copy_PlayStoreData\n",
        "df2 = df_copy_UserReview"
      ],
      "metadata": {
        "collapsed": true,
        "id": "fGhUemzjJ2Dd"
      },
      "execution_count": null,
      "outputs": []
    },
    {
      "cell_type": "code",
      "source": [
        "df_merge = pd.merge(df1, df2, on=\"App\", how=\"left\")"
      ],
      "metadata": {
        "id": "Z6oPKiqHTV1c"
      },
      "execution_count": null,
      "outputs": []
    },
    {
      "cell_type": "code",
      "source": [
        "df_merge.head()"
      ],
      "metadata": {
        "id": "E0UTJROSTVpY"
      },
      "execution_count": null,
      "outputs": []
    },
    {
      "cell_type": "code",
      "source": [
        "df_merge = df_merge.dropna(subset=[\"Sentiment\", \"Translated_Review\"])"
      ],
      "metadata": {
        "id": "IhqwYzeAQ0n7"
      },
      "execution_count": null,
      "outputs": []
    },
    {
      "cell_type": "code",
      "source": [
        "df_merge = df_merge.reset_index(drop=True)"
      ],
      "metadata": {
        "id": "OhEIoTDGPnOS"
      },
      "execution_count": null,
      "outputs": []
    },
    {
      "cell_type": "code",
      "source": [
        "df_merge"
      ],
      "metadata": {
        "id": "T10vfNlxLHdp"
      },
      "execution_count": null,
      "outputs": []
    },
    {
      "cell_type": "markdown",
      "source": [
        "### What all manipulations have you done and insights you found?"
      ],
      "metadata": {
        "id": "MSa1f5Uengrz"
      }
    },
    {
      "cell_type": "markdown",
      "source": [
        "Check for all columns if null values are present or not.\n",
        "\n",
        "Created \"df_copy_PlayStoreData\" variable and all manipulation are performed on this variable.\n",
        "\n",
        "Created \"df_copy_UserReview\" variable and all manipulation are performed on this variable.\n",
        "\n",
        "convert data types\n",
        "\n",
        "Cleaned data\n",
        "\n",
        "Created new Columns like Date, Month, Years\n",
        "\n",
        "Remove Duplicated records\n"
      ],
      "metadata": {
        "id": "LbyXE7I1olp8"
      }
    },
    {
      "cell_type": "markdown",
      "source": [
        "## ***4. Data Vizualization, Storytelling & Experimenting with charts : Understand the relationships between variables***"
      ],
      "metadata": {
        "id": "GF8Ens_Soomf"
      }
    },
    {
      "cell_type": "markdown",
      "source": [
        "#### Chart - 1 kdeplot for PlayStore Data"
      ],
      "metadata": {
        "id": "0wOQAZs5pc--"
      }
    },
    {
      "cell_type": "code",
      "source": [
        "# Chart - 1 visualization code\n",
        "\n",
        "plt.figure(figsize=(15, 15))\n",
        "plt.suptitle(\"Univariate Analysis for Numerical Feature for PlayStore Data\", fontsize=20, fontweight='bold')\n",
        "\n",
        "for i in range(0, len(numerical_features)):\n",
        "    plt.subplot(5, 3, i+1)\n",
        "    sns.kdeplot(x=df_copy_PlayStoreData[numerical_features[i]])\n",
        "    plt.xlabel(numerical_features[i])\n",
        "    plt.tight_layout()\n",
        "\n"
      ],
      "metadata": {
        "id": "7v_ESjsspbW7"
      },
      "execution_count": null,
      "outputs": []
    },
    {
      "cell_type": "markdown",
      "source": [
        "##### 1. Why did you pick the specific chart?"
      ],
      "metadata": {
        "id": "K5QZ13OEpz2H"
      }
    },
    {
      "cell_type": "markdown",
      "source": [
        "For finding proportion of count data on numerical columns"
      ],
      "metadata": {
        "id": "XESiWehPqBRc"
      }
    },
    {
      "cell_type": "markdown",
      "source": [
        "##### 2. What is/are the insight(s) found from the chart?"
      ],
      "metadata": {
        "id": "lQ7QKXXCp7Bj"
      }
    },
    {
      "cell_type": "markdown",
      "source": [
        "Rating and Year is left skewed while Review, Size, Installs and Price are right skewed"
      ],
      "metadata": {
        "id": "C_j1G7yiqdRP"
      }
    },
    {
      "cell_type": "markdown",
      "source": [
        "##### 3. Will the gained insights help creating a positive business impact?\n",
        "Are there any insights that lead to negative growth? Justify with specific reason."
      ],
      "metadata": {
        "id": "448CDAPjqfQr"
      }
    },
    {
      "cell_type": "markdown",
      "source": [
        "Rating and Year being left-skewed shows that most apps have high ratings and have been recently updated. This is positive: it suggests developers actively maintain apps and users are generally satisfied.\n",
        "Left-skewed ratings shows quality and up-to-date products and positive for user trust & retention.\n",
        "\n",
        "\n",
        "Reviews, Size, Installs, and Price being right-skewed means a small number of apps dominate in reviews, downloads, size, and pricing, while most apps have lower values.\n",
        "\n",
        "\n",
        "\n",
        "Right-skewed installs and reviews highlight that success is concentrated and new apps need targeted growth strategies.\n",
        "\n",
        "Right-skewed price warns that monetization should consider the markek's strong preference for free/low-cost apps."
      ],
      "metadata": {
        "id": "3cspy4FjqxJW"
      }
    },
    {
      "cell_type": "markdown",
      "source": [
        "#### Chart - 2 Count Plot"
      ],
      "metadata": {
        "id": "KSlN3yHqYklG"
      }
    },
    {
      "cell_type": "code",
      "source": [
        "# Chart - 2 visualization code\n",
        "\n",
        "plt.figure(figsize=(10, 10))\n",
        "plt.suptitle(\"Univariate Analysis for Categorical Features for PlayStore Data\", fontsize=20, fontweight='bold')\n",
        "category = [\"Type\", \"Content Rating\"]\n",
        "for i in range(0, len(category)):\n",
        "    plt.subplot(2, 2, i+1)\n",
        "    sns.countplot(x=df_copy_PlayStoreData[category[i]] ,palette=\"Set2\", hue=df_copy_PlayStoreData[category[i]])\n",
        "    plt.xticks(rotation=45)\n",
        "    plt.xlabel(category[i])\n",
        "    plt.xticks(rotation=45)\n",
        "    plt.tight_layout()\n"
      ],
      "metadata": {
        "id": "R4YgtaqtYklH"
      },
      "execution_count": null,
      "outputs": []
    },
    {
      "cell_type": "markdown",
      "source": [
        "##### 1. Why did you pick the specific chart?"
      ],
      "metadata": {
        "id": "t6dVpIINYklI"
      }
    },
    {
      "cell_type": "markdown",
      "source": [
        "To analyse categorical Data."
      ],
      "metadata": {
        "id": "5aaW0BYyYklI"
      }
    },
    {
      "cell_type": "markdown",
      "source": [
        "##### 2. What is/are the insight(s) found from the chart?"
      ],
      "metadata": {
        "id": "ijmpgYnKYklI"
      }
    },
    {
      "cell_type": "markdown",
      "source": [
        "From **Type** column we can conclude that Free apps are mostly popular and used by users as compaired to paid apps.\n",
        "\n",
        "From **ContentRating** we can conclude that most of the apps are used which can be used by all age groups and common for all age types."
      ],
      "metadata": {
        "id": "PSx9atu2YklI"
      }
    },
    {
      "cell_type": "markdown",
      "source": [
        "##### 3. Will the gained insights help creating a positive business impact?\n",
        "Are there any insights that lead to negative growth? Justify with specific reason."
      ],
      "metadata": {
        "id": "-JiQyfWJYklI"
      }
    },
    {
      "cell_type": "markdown",
      "source": [
        "Most of the people use Free apps as compaire to paid apps, to create a positive buisness impact we need to focus towards creating apps which are free."
      ],
      "metadata": {
        "id": "BcBbebzrYklV"
      }
    },
    {
      "cell_type": "markdown",
      "source": [
        "#### Chart - 3 Bar Plot"
      ],
      "metadata": {
        "id": "EM7whBJCYoAo"
      }
    },
    {
      "cell_type": "code",
      "source": [
        "# Chart - 3 visualization code\n",
        "# Which apps are mostly used by users\n",
        "plt.figure(figsize=(12, 6))\n",
        "category_counts = df_copy_PlayStoreData[\"Category\"].value_counts()\n",
        "cumulative = category_counts.cumsum() / category_counts.sum()\n",
        "\n",
        "sns.barplot(x=category_counts.index, y=category_counts.values, color='C0')\n",
        "plt.plot(category_counts.index, cumulative, color='C1', marker='o')\n",
        "\n",
        "plt.xticks(rotation=90)\n",
        "plt.ylabel('Number of Apps')\n",
        "plt.title('Apps by Category')\n",
        "plt.show()\n"
      ],
      "metadata": {
        "id": "t6GMdE67YoAp"
      },
      "execution_count": null,
      "outputs": []
    },
    {
      "cell_type": "markdown",
      "source": [
        "##### 1. Why did you pick the specific chart?"
      ],
      "metadata": {
        "id": "fge-S5ZAYoAp"
      }
    },
    {
      "cell_type": "markdown",
      "source": [
        "As we have a more than 15 app categories that's why we use bar plot"
      ],
      "metadata": {
        "id": "5dBItgRVYoAp"
      }
    },
    {
      "cell_type": "markdown",
      "source": [
        "##### 2. What is/are the insight(s) found from the chart?"
      ],
      "metadata": {
        "id": "85gYPyotYoAp"
      }
    },
    {
      "cell_type": "markdown",
      "source": [
        "1. There are kinds of app in playstore which are under category of family, games, and tools\n",
        "2. Buety, comics, arts and weather kinds of apps are very less in playstore"
      ],
      "metadata": {
        "id": "4jstXR6OYoAp"
      }
    },
    {
      "cell_type": "markdown",
      "source": [
        "##### 3. Will the gained insights help creating a positive business impact?\n",
        "Are there any insights that lead to negative growth? Justify with specific reason."
      ],
      "metadata": {
        "id": "RoGjAbkUYoAp"
      }
    },
    {
      "cell_type": "markdown",
      "source": [
        "Family, games and tools are mostly used by the users.\n",
        "If apps are build more on these category there are high chances of getting popular and come under top trend apps list."
      ],
      "metadata": {
        "id": "zfJ8IqMcYoAp"
      }
    },
    {
      "cell_type": "markdown",
      "source": [
        "Chart - 4 Bar Plot To show top 5 apps for each popular categories"
      ],
      "metadata": {
        "id": "4Of9eVA-YrdM"
      }
    },
    {
      "cell_type": "code",
      "source": [
        "# Chart - 4 visualization code\n",
        "# Total installs per category\n",
        "category_installs = df_copy_PlayStoreData.groupby('Category')['Installs'].sum().sort_values(ascending=False)\n",
        "\n",
        "# Take top N popular categories (e.g., top 5)\n",
        "popular_categories = category_installs.head(5).index\n",
        "\n",
        "top_apps_per_category = (df_copy_PlayStoreData[df_copy_PlayStoreData['Category'].isin(popular_categories)].sort_values(['Category', 'Installs'], ascending=[True, False]).groupby('Category').head(5))\n",
        "\n",
        "fig = px.bar(\n",
        "    top_apps_per_category,\n",
        "    x='Installs',\n",
        "    y='App',\n",
        "    color='Category',\n",
        "    orientation='h',\n",
        "    facet_col='Category',\n",
        "    title='Top 5 Most Installed Apps in Each Popular Category',\n",
        "    height=800\n",
        ")\n",
        "\n",
        "fig.update_yaxes(categoryorder='total ascending')  # sort within each facet\n",
        "fig.show()\n",
        "\n"
      ],
      "metadata": {
        "id": "irlUoxc8YrdO"
      },
      "execution_count": null,
      "outputs": []
    },
    {
      "cell_type": "markdown",
      "source": [
        "##### 1. Why did you pick the specific chart?"
      ],
      "metadata": {
        "id": "iky9q4vBYrdO"
      }
    },
    {
      "cell_type": "markdown",
      "source": [
        "We chose a faceted horizontal bar chart using Plotly to visualize the top 5 most installed apps in each of the most popular categories because:\n",
        "1. Bar charts make it easy to see and compare the install counts of apps side by side.\n",
        "\n",
        "2. Horizontal orientation (orientation='h') avoids clutter and makes app names fully visible, which is important because app names can be long.\n"
      ],
      "metadata": {
        "id": "aJRCwT6DYrdO"
      }
    },
    {
      "cell_type": "markdown",
      "source": [
        "##### 2. What is/are the insight(s) found from the chart?"
      ],
      "metadata": {
        "id": "F6T5p64dYrdO"
      }
    },
    {
      "cell_type": "markdown",
      "source": [
        "1.Category \"communication\" Top 5 Apps:Hangouts, Gmail, Google Chrome, Whatsapp & Messenger\n",
        "\n",
        "2.Category \"Game\" Top 5 Apps:Subway Surfers, Temple Run 2, My Talking Tom, Pou & Candy Crush Saga\n",
        "\n",
        "3.Category \"Productivity\" Top 5 Apps:Google Drive,Cloud Print,Google Calendar & Dropbox  \n",
        "\n",
        "4.Category \"Social\" Top 5 Apps:Google+,Instagram,Facebook,Snapchat & Facebook Lite\n",
        "\n",
        "5.Category \"Tools\" Top 5 Apps:Google,Gboard,Shareit,Google Translate & Clean Master\n",
        "\n"
      ],
      "metadata": {
        "id": "Xx8WAJvtYrdO"
      }
    },
    {
      "cell_type": "markdown",
      "source": [
        "##### 3. Will the gained insights help creating a positive business impact?\n",
        "Are there any insights that lead to negative growth? Justify with specific reason."
      ],
      "metadata": {
        "id": "y-Ehk30pYrdP"
      }
    },
    {
      "cell_type": "markdown",
      "source": [
        "If we focus on creating apps based on the following categories then there might we chances of getting in top 5 with huge success."
      ],
      "metadata": {
        "id": "jLNxxz7MYrdP"
      }
    },
    {
      "cell_type": "markdown",
      "source": [
        "#### Chart - 5 Scatter Plot"
      ],
      "metadata": {
        "id": "OH-pJp9IphqM"
      }
    },
    {
      "cell_type": "code",
      "source": [
        "# Chart - 6 visualization code\n",
        "# To find Average Sentiment Polarity vs Subjectivity\n",
        "\n",
        "# Calculate averages\n",
        "avg_sentiment = df_merge.groupby('App')[['Sentiment_Polarity', 'Sentiment_Subjectivity']].mean().reset_index()\n",
        "\n",
        "# Optional: pick top 10 apps by number of reviews to keep chart clear\n",
        "top_apps = df_merge['App'].value_counts().head(10).index\n",
        "plot_df = avg_sentiment[avg_sentiment['App'].isin(top_apps)]"
      ],
      "metadata": {
        "id": "kuRf4wtuphqN"
      },
      "execution_count": null,
      "outputs": []
    },
    {
      "cell_type": "code",
      "source": [
        "# Picked top 10 apps by total reviews\n",
        "fig = px.scatter(\n",
        "    plot_df,\n",
        "    x='Sentiment_Polarity',\n",
        "    y='Sentiment_Subjectivity',\n",
        "    text='App',  # label each point with the app name\n",
        "    size_max=60,\n",
        "    title='Apps: Average Sentiment Polarity vs Subjectivity',\n",
        "    labels={\n",
        "        'Sentiment_Polarity': 'Average Sentiment Polarity',\n",
        "        'Sentiment_Subjectivity': 'Average Sentiment Subjectivity'\n",
        "    }\n",
        ")\n",
        "\n",
        "fig.update_traces(textposition='top center')  # optional: adjust text position\n",
        "fig.update_layout(\n",
        "    width=900,\n",
        "    height=500\n",
        ")\n",
        "fig.show()"
      ],
      "metadata": {
        "id": "L7n9Itp7T5zR"
      },
      "execution_count": null,
      "outputs": []
    },
    {
      "cell_type": "markdown",
      "source": [
        "##### 1. Why did you pick the specific chart?"
      ],
      "metadata": {
        "id": "bbFf2-_FphqN"
      }
    },
    {
      "cell_type": "markdown",
      "source": [
        "We wanted to compare two continuous numeric metrics for each app:\n",
        "\n",
        "Average Sentiment_Polarity (how positive the reviews are)\n",
        "\n",
        "Average Sentiment_Subjectivity (how subjective the reviews are)"
      ],
      "metadata": {
        "id": "loh7H2nzphqN"
      }
    },
    {
      "cell_type": "markdown",
      "source": [
        "##### 2. What is/are the insight(s) found from the chart?"
      ],
      "metadata": {
        "id": "_ouA3fa0phqN"
      }
    },
    {
      "cell_type": "markdown",
      "source": [
        "Apps toward the top are reviewed more subjectively\n",
        "\n",
        "Apps further right have more positive average sentiment\n",
        "\n",
        "Apps closer to bottom-left are more objective and have lower polarity (more neutral or negative)\n",
        "\n"
      ],
      "metadata": {
        "id": "VECbqPI7phqN"
      }
    },
    {
      "cell_type": "markdown",
      "source": [
        "##### 3. Will the gained insights help creating a positive business impact?\n",
        "Are there any insights that lead to negative growth? Justify with specific reason."
      ],
      "metadata": {
        "id": "Seke61FWphqN"
      }
    },
    {
      "cell_type": "markdown",
      "source": [
        "Apps like \"4 in a Row\" and \"Comptia A+ 220-901 & 220-902\" (toward the top-right) show both high positivity and high subjectivity — these could be highlighted in marketing, app store banners, or feature promotions to attract new users.\n",
        "\n",
        "Apps like \"Azar\" (negative polarity, even though relatively high subjectivity) or \"Fake Call - Fake Caller ID\" (neutral/zero polarity and very low subjectivity) suggest user dissatisfaction or indifference.\n",
        "\n"
      ],
      "metadata": {
        "id": "DW4_bGpfphqN"
      }
    },
    {
      "cell_type": "markdown",
      "source": [
        "#### Chart - 6 Scatter Plot"
      ],
      "metadata": {
        "id": "BZR9WyysphqO"
      }
    },
    {
      "cell_type": "code",
      "source": [
        "# Chart - 8 visualization code\n",
        "fig = px.scatter(df_merge, x='Rating', y='Reviews',\n",
        "                 title='App Rating vs Number of Reviews',\n",
        "                 labels={'Rating': 'Average Rating', 'Reviews': 'Number of Reviews'},\n",
        "                 size='Reviews', color='Rating')\n",
        "fig.show()"
      ],
      "metadata": {
        "id": "TdPTWpAVphqO"
      },
      "execution_count": null,
      "outputs": []
    },
    {
      "cell_type": "markdown",
      "source": [
        "##### 1. Why did you pick the specific chart?"
      ],
      "metadata": {
        "id": "jj7wYXLtphqO"
      }
    },
    {
      "cell_type": "markdown",
      "source": [
        "Scatter plot is the best choice because you’re comparing two numeric variables and want to see patterns, relationships, and outliers in the same view."
      ],
      "metadata": {
        "id": "Ob8u6rCTphqO"
      }
    },
    {
      "cell_type": "markdown",
      "source": [
        "##### 2. What is/are the insight(s) found from the chart?"
      ],
      "metadata": {
        "id": "eZrbJ2SmphqO"
      }
    },
    {
      "cell_type": "markdown",
      "source": [
        "Apps with higher user ratings also get more reviews."
      ],
      "metadata": {
        "id": "mZtgC_hjphqO"
      }
    },
    {
      "cell_type": "markdown",
      "source": [
        "##### 3. Will the gained insights help creating a positive business impact?\n",
        "Are there any insights that lead to negative growth? Justify with specific reason."
      ],
      "metadata": {
        "id": "rFu4xreNphqO"
      }
    },
    {
      "cell_type": "markdown",
      "source": [
        "Having apps with good rating may get more reviews which help us to improve app for better experience."
      ],
      "metadata": {
        "id": "ey_0qi68phqO"
      }
    },
    {
      "cell_type": "markdown",
      "source": [
        "#### Chart - 7 Pie Chart"
      ],
      "metadata": {
        "id": "U2RJ9gkRphqQ"
      }
    },
    {
      "cell_type": "code",
      "source": [
        "# Chart - 10 visualization code\n",
        "# To see the market share of free vs paid apps.\n",
        "type_counts = df_copy_PlayStoreData['Type'].value_counts().reset_index()\n",
        "type_counts.columns = ['Type', 'Count']\n",
        "fig = px.pie(type_counts, names='Type', values='Count',\n",
        "             title='Distribution of Free vs Paid Apps')\n",
        "fig.show()"
      ],
      "metadata": {
        "id": "GM7a4YP4phqQ"
      },
      "execution_count": null,
      "outputs": []
    },
    {
      "cell_type": "markdown",
      "source": [
        "##### 1. Why did you pick the specific chart?"
      ],
      "metadata": {
        "id": "1M8mcRywphqQ"
      }
    },
    {
      "cell_type": "markdown",
      "source": [
        "Pie charts are a great choice when you want to show what fraction of your apps are Free vs Paid, because the goal is to communicate a part-to-whole relationship"
      ],
      "metadata": {
        "id": "8agQvks0phqQ"
      }
    },
    {
      "cell_type": "markdown",
      "source": [
        "##### 2. What is/are the insight(s) found from the chart?"
      ],
      "metadata": {
        "id": "tgIPom80phqQ"
      }
    },
    {
      "cell_type": "markdown",
      "source": [
        "We have 92.2% of apps are free and 7.83% are paid apps."
      ],
      "metadata": {
        "id": "Qp13pnNzphqQ"
      }
    },
    {
      "cell_type": "markdown",
      "source": [
        "##### 3. Will the gained insights help creating a positive business impact?\n",
        "Are there any insights that lead to negative growth? Justify with specific reason."
      ],
      "metadata": {
        "id": "JMzcOPDDphqR"
      }
    },
    {
      "cell_type": "markdown",
      "source": [
        "Creating free apps have high chances of getting used by users as compared to paid apps.\n",
        "\n",
        "If we totally focus on paid apps it may get less chances of getting not used by users that may lead to negative growth."
      ],
      "metadata": {
        "id": "R4Ka1PC2phqR"
      }
    },
    {
      "cell_type": "markdown",
      "source": [
        "#### Chart - 8 - Correlation Heatmap"
      ],
      "metadata": {
        "id": "NC_X3p0fY2L0"
      }
    },
    {
      "cell_type": "code",
      "source": [
        "# Correlation Heatmap visualization code\n",
        "# Pick numeric columns only\n",
        "corr_df = df_merge[['Rating', 'Reviews', 'Installs', 'Price',\n",
        "              'Sentiment_Polarity', 'Sentiment_Subjectivity']]\n",
        "\n",
        "# Compute correlation matrix\n",
        "corr_matrix = corr_df.corr()\n",
        "\n",
        "# Plot\n",
        "fig = px.imshow(\n",
        "    corr_matrix,\n",
        "    text_auto=True,\n",
        "    color_continuous_scale='RdBu',\n",
        "    title='Correlation Heatmap'\n",
        ")\n",
        "\n",
        "fig.update_layout(width=900, height=700)\n",
        "fig.show()"
      ],
      "metadata": {
        "id": "xyC9zolEZNRQ"
      },
      "execution_count": null,
      "outputs": []
    },
    {
      "cell_type": "markdown",
      "source": [
        "##### 1. Why did you pick the specific chart?"
      ],
      "metadata": {
        "id": "UV0SzAkaZNRQ"
      }
    },
    {
      "cell_type": "markdown",
      "source": [
        "To see which numeric columns are correlated with each other"
      ],
      "metadata": {
        "id": "DVPuT8LYZNRQ"
      }
    },
    {
      "cell_type": "markdown",
      "source": [
        "##### 2. What is/are the insight(s) found from the chart?"
      ],
      "metadata": {
        "id": "YPEH6qLeZNRQ"
      }
    },
    {
      "cell_type": "markdown",
      "source": [
        "Apps with more installs tend to have more reviews.\n",
        "Reviews that are more subjective also tend to be slightly more positive.\n",
        "\n",
        "Rating vs Reviews: very weak positive correlation.\n",
        "Rating vs Installs: almost no correlation."
      ],
      "metadata": {
        "id": "bfSqtnDqZNRR"
      }
    },
    {
      "cell_type": "markdown",
      "source": [
        "#### Chart - 9 - Pair Plot"
      ],
      "metadata": {
        "id": "q29F0dvdveiT"
      }
    },
    {
      "cell_type": "code",
      "source": [
        "# Pair Plot visualization code\n",
        "cols = ['Rating', 'Reviews', 'Installs', 'Price', 'Size']"
      ],
      "metadata": {
        "id": "o58-TEIhveiU"
      },
      "execution_count": null,
      "outputs": []
    },
    {
      "cell_type": "code",
      "source": [
        "sns.set(style='whitegrid', context='notebook', palette='pastel')"
      ],
      "metadata": {
        "id": "stvv15k4m35i"
      },
      "execution_count": null,
      "outputs": []
    },
    {
      "cell_type": "code",
      "source": [
        "# Create pairplot with larger size and KDE on diagonals\n",
        "pair_grid = sns.pairplot(\n",
        "    df_copy_PlayStoreData[cols],\n",
        "    height=3,                # Each small plot height (overall figure gets big)\n",
        "    diag_kind='kde',         # Smooth density instead of hist\n",
        "    corner=True,             # Show lower triangle only (less clutter)\n",
        "    plot_kws={'alpha':0.6, 's':40, 'edgecolor':'k'}  # Style scatter plots\n",
        ")\n",
        "\n",
        "# Add a main title\n",
        "pair_grid.fig.suptitle('Pair Plot of Numeric Features',\n",
        "                       fontsize=18, fontweight='bold', y=1.02)\n",
        "\n",
        "plt.show()"
      ],
      "metadata": {
        "id": "9-pR4i93kH-g"
      },
      "execution_count": null,
      "outputs": []
    },
    {
      "cell_type": "markdown",
      "source": [
        "##### 1. Why did you pick the specific chart?"
      ],
      "metadata": {
        "id": "EXh0U9oCveiU"
      }
    },
    {
      "cell_type": "markdown",
      "source": [
        "Instead of making separate scatter plots, pair plot shows scatter plots for every pair, plus histograms or KDEs on the diagonal."
      ],
      "metadata": {
        "id": "eMmPjTByveiU"
      }
    },
    {
      "cell_type": "markdown",
      "source": [
        "##### 2. What is/are the insight(s) found from the chart?"
      ],
      "metadata": {
        "id": "22aHeOlLveiV"
      }
    },
    {
      "cell_type": "markdown",
      "source": [
        "Based on chart:\n",
        "Free apps has high rating, reviews, instals as compared to paid apps\n",
        "Paid apps has less reviews, installs as compaired to free apps"
      ],
      "metadata": {
        "id": "uPQ8RGwHveiV"
      }
    },
    {
      "cell_type": "markdown",
      "source": [
        "## **5. Solution to Business Objective**"
      ],
      "metadata": {
        "id": "JcMwzZxoAimU"
      }
    },
    {
      "cell_type": "markdown",
      "source": [
        "#### What do you suggest the client to achieve Business Objective ?\n",
        "Explain Briefly."
      ],
      "metadata": {
        "id": "8G2x9gOozGDZ"
      }
    },
    {
      "cell_type": "markdown",
      "source": [
        "To built an app need to understand users need and should start with free apps so that user can engage with app and understand the usage, once they start using app we can charge them accordingle. Also app should have minimum ads and up to date update should be provided with support service. This way chances of apps populairty may increase and create high chances of getting in top 10 list of best apps."
      ],
      "metadata": {
        "id": "pASKb0qOza21"
      }
    },
    {
      "cell_type": "markdown",
      "source": [
        "# **Conclusion**"
      ],
      "metadata": {
        "id": "gCX9965dhzqZ"
      }
    },
    {
      "cell_type": "markdown",
      "source": [
        "Write the conclusion here."
      ],
      "metadata": {
        "id": "Fjb1IsQkh3yE"
      }
    },
    {
      "cell_type": "markdown",
      "source": [
        "### ***Hurrah! You have successfully completed your EDA Capstone Project !!!***"
      ],
      "metadata": {
        "id": "gIfDvo9L0UH2"
      }
    }
  ]
}